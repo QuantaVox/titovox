{
 "cells": [
  {
   "cell_type": "code",
   "execution_count": 11,
   "metadata": {},
   "outputs": [],
   "source": [
    "# Read all files in original_data\n",
    "import glob\n",
    "import os\n",
    "\n",
    "\n",
    "original_data = \"/home/jorge/data/titovox/TRANSCRIPTS/SENTENCES/*.wav\"\n",
    "data = glob.glob(original_data)\n",
    "\n",
    "main_pp_path = \"/home/jorge/data/titovox/DATA_FOR_TRAINING/\"\n",
    "data_pp_path = f\"{main_pp_path}data_pp/\"\n",
    "data_large_path = f\"{main_pp_path}data_large/\"\n",
    "\n",
    "\n",
    "\n",
    "# If data_pp_path and data_large_path do not exist, create them\n",
    "if not os.path.exists(data_pp_path):\n",
    "    os.makedirs(data_pp_path)\n",
    "if not os.path.exists(data_large_path):\n",
    "    os.makedirs(data_large_path)"
   ]
  },
  {
   "cell_type": "code",
   "execution_count": 12,
   "metadata": {},
   "outputs": [
    {
     "name": "stdout",
     "output_type": "stream",
     "text": [
      "597 files was copied. 540 normal files and 57 large files.\n"
     ]
    }
   ],
   "source": [
    "# Copy files and split them in two folders\n",
    "\n",
    "import wave\n",
    "import contextlib\n",
    "import shutil\n",
    "\n",
    "def measure_audio_duration(file):\n",
    "    \"\"\"Measure wav audio duration in minutes\"\"\"\n",
    "    with contextlib.closing(wave.open(file,'r')) as f:\n",
    "        frames = f.getnframes()\n",
    "        rate = f.getframerate()\n",
    "        duration = frames / float(rate)\n",
    "    return duration\n",
    "\n",
    "normal = 0\n",
    "large = 0\n",
    "for file in data:\n",
    "    duration = measure_audio_duration(file)\n",
    "    file_txt = file.replace(\".wav\", \".txt\")\n",
    "\n",
    "    if duration > 10:\n",
    "        # Copy files .wav and .txt to data_large_path \n",
    "        shutil.copy(file, data_large_path)\n",
    "        shutil.copy(file_txt, data_large_path)\n",
    "        large += 1\n",
    "    else:\n",
    "        # Copy files .wav and .txt to data_pp_path \n",
    "        shutil.copy(file, data_pp_path)\n",
    "        shutil.copy(file_txt, data_pp_path)\n",
    "        normal += 1\n",
    "print(f\"{len(data)} files was copied. {normal} normal files and {large} large files.\")\n",
    "   \n"
   ]
  },
  {
   "cell_type": "code",
   "execution_count": 13,
   "metadata": {},
   "outputs": [],
   "source": [
    "# Rename files\n",
    "\n",
    "data = glob.glob(data_pp_path + \"*.wav\")\n",
    "\n",
    "for i in range(len(data)):\n",
    "    # Rename data[i] file to data_pp_path + str(i+1) + \".wav\" \n",
    "    os.rename(data[i], data_pp_path + str(i+1) + \".wav\")\n",
    "    # Rename data[i].replace(\".wav\", \".txt\") file to data_pp_path + str(i+1) + \".txt\"\n",
    "    os.rename(data[i].replace(\".wav\", \".txt\"), data_pp_path + str(i+1) + \".txt\")\n",
    "    \n",
    "    "
   ]
  },
  {
   "cell_type": "code",
   "execution_count": 14,
   "metadata": {},
   "outputs": [],
   "source": [
    "# Create metadata. Metadata is a txt file with the name of the audio (wav) and the content of the audio (txt)\n",
    "\n",
    "\n",
    "\n",
    "data = glob.glob(data_pp_path + \"*.wav\")\n",
    "\n",
    "metadata_path = f\"{main_pp_path}metadata.txt\"\n",
    "\n",
    "for i in range(len(data)):\n",
    "    # Read audio file\n",
    "    with open(data[i].replace(\".wav\", \".txt\"), \"r\") as f:\n",
    "        content = f.read()\n",
    "    # Write audio file name and content in metadata file\n",
    "    name = data[i].split(\"/\")[-1]\n",
    "    with open(metadata_path, \"a\") as f:\n",
    "        f.write(\"wavs/\"+name + \"|\" + content + \"\\n\")"
   ]
  },
  {
   "cell_type": "code",
   "execution_count": 15,
   "metadata": {},
   "outputs": [],
   "source": [
    "# Delete all files *.txt in data_pp_path\n",
    "data = glob.glob(data_pp_path + \"*.txt\")\n",
    "for file in data:\n",
    "    os.remove(file)"
   ]
  },
  {
   "cell_type": "code",
   "execution_count": 5,
   "metadata": {},
   "outputs": [],
   "source": []
  }
 ],
 "metadata": {
  "kernelspec": {
   "display_name": "titovox",
   "language": "python",
   "name": "python3"
  },
  "language_info": {
   "codemirror_mode": {
    "name": "ipython",
    "version": 3
   },
   "file_extension": ".py",
   "mimetype": "text/x-python",
   "name": "python",
   "nbconvert_exporter": "python",
   "pygments_lexer": "ipython3",
   "version": "3.9.16"
  },
  "orig_nbformat": 4
 },
 "nbformat": 4,
 "nbformat_minor": 2
}
