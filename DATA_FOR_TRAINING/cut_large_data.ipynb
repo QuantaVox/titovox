{
 "cells": [
  {
   "cell_type": "code",
   "execution_count": null,
   "metadata": {},
   "outputs": [],
   "source": [
    "from pydub import AudioSegment\n",
    "import math\n",
    "\n",
    "# Load the audio file\n",
    "file = \"/Users/jorge/titovox/CHOPPED_DATA/MP3/Media1.mp3\"\n",
    "audio = AudioSegment.from_mp3(file)\n",
    "\n",
    "file = \"/Users/jorge/titovox/TRANSCRIPTS/SENTENCES/sentence_362.wav\"\n",
    "file = \"/Users/jorge/titovox/TRANSCRIPTS/SENTENCES/sentence_538.wav\"\n",
    "audio = AudioSegment.from_wav(file)\n",
    "\n",
    "# Set the maximum phrase duration in milliseconds\n",
    "max_phrase_duration = 10000\n",
    "\n",
    "# Calculate the number of phrases\n",
    "num_phrases = math.ceil(len(audio) / max_phrase_duration)\n",
    "\n",
    "# Initialize variables for the start and end of each phrase\n",
    "start = 0\n",
    "end = 0\n",
    "\n",
    "# Loop through each phrase and save it as a separate file\n",
    "for i in range(num_phrases):\n",
    "    # Calculate the end of the phrase\n",
    "    end = min(start + max_phrase_duration, len(audio))\n",
    "    \n",
    "    # Trim the audio to the phrase\n",
    "    phrase_audio = audio[start:end]\n",
    "    \n",
    "    # Save the phrase as a separate file\n",
    "    phrase_audio.export(f'phrase_{i}.mp3', format=\"mp3\")\n",
    "    \n",
    "    # Set the start of the next phrase to the end of this phrase\n",
    "    start = end\n"
   ]
  }
 ],
 "metadata": {
  "language_info": {
   "name": "python"
  },
  "orig_nbformat": 4
 },
 "nbformat": 4,
 "nbformat_minor": 2
}
